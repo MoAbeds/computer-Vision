{
  "nbformat": 4,
  "nbformat_minor": 0,
  "metadata": {
    "colab": {
      "name": "Untitled19.ipynb",
      "provenance": [],
      "authorship_tag": "ABX9TyNvSzbfQJqMmAEbKzukMlB2",
      "include_colab_link": true
    },
    "kernelspec": {
      "name": "python3",
      "display_name": "Python 3"
    },
    "language_info": {
      "name": "python"
    },
    "accelerator": "GPU",
    "gpuClass": "standard"
  },
  "cells": [
    {
      "cell_type": "markdown",
      "metadata": {
        "id": "view-in-github",
        "colab_type": "text"
      },
      "source": [
        "<a href=\"https://colab.research.google.com/github/MoAbeds/computer-Vision/blob/colabs/Video-classification.ipynb\" target=\"_parent\"><img src=\"https://colab.research.google.com/assets/colab-badge.svg\" alt=\"Open In Colab\"/></a>"
      ]
    },
    {
      "cell_type": "markdown",
      "source": [
        "**Download Libraries:**"
      ],
      "metadata": {
        "id": "fVORC5wrryVf"
      }
    },
    {
      "cell_type": "code",
      "source": [
        "!pip install pytorch-lightning pytorchvideo omegaconf hydra-core youtube-dl --upgrade --quiet"
      ],
      "metadata": {
        "id": "GrFypJNQY-qJ"
      },
      "execution_count": null,
      "outputs": []
    },
    {
      "cell_type": "markdown",
      "source": [
        "**Download The Dataset(takes alot time)**"
      ],
      "metadata": {
        "id": "TPlmJfwwsOzR"
      }
    },
    {
      "cell_type": "code",
      "source": [
        "!mkdir data\n",
        "!git clone https://github.com/activitynet/ActivityNet.git\n",
        "!cd ActivityNet/Crawler/Kinetics\n",
        "#download train data\n",
        "!python /content/ActivityNet/Crawler/Kinetics/download.py /content/ActivityNet/Crawler/Kinetics/data/kinetics-400_train.csv /content/data/train\n",
        "#download val data\n",
        "!python /content/ActivityNet/Crawler/Kinetics/download.py /content/ActivityNet/Crawler/Kinetics/data/kinetics-400_val.csv /content/data/val"
      ],
      "metadata": {
        "id": "1I5CnLlCsEUQ"
      },
      "execution_count": null,
      "outputs": []
    },
    {
      "cell_type": "markdown",
      "source": [
        "**Clone MY Repo**\n"
      ],
      "metadata": {
        "id": "3mVbPDryr6RG"
      }
    },
    {
      "cell_type": "code",
      "source": [
        "!git clone https://github.com/MoAbeds/computer-Vision.git"
      ],
      "metadata": {
        "id": "Hkm-QIgSqYqf"
      },
      "execution_count": null,
      "outputs": []
    },
    {
      "cell_type": "markdown",
      "source": [
        "**cd to the Right Folder**"
      ],
      "metadata": {
        "id": "OWUG1YUfsBb8"
      }
    },
    {
      "cell_type": "code",
      "source": [
        "cd /content/computer-Vision/CNN Architectures/video-class"
      ],
      "metadata": {
        "id": "HGFOXP4Trp75"
      },
      "execution_count": null,
      "outputs": []
    },
    {
      "cell_type": "markdown",
      "source": [
        "**Run the Script**"
      ],
      "metadata": {
        "id": "Nfnwf6LLsxbG"
      }
    },
    {
      "cell_type": "code",
      "execution_count": null,
      "metadata": {
        "id": "FEoHGbw-Wxei"
      },
      "outputs": [],
      "source": [
        "!python /content/trainer.py"
      ]
    }
  ]
}